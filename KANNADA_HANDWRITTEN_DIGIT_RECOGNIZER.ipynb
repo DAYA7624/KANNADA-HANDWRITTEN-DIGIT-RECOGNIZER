{
 "cells": [
  {
   "cell_type": "markdown",
   "metadata": {
    "colab_type": "text",
    "id": "Q9E0eidpqh_J"
   },
   "source": [
    "<img src='https://imgur.com/G7R8fkB.png'>\n",
    "ref: https://imgur.com/G7R8fkB"
   ]
  },
  {
   "cell_type": "markdown",
   "metadata": {
    "colab_type": "text",
    "id": "r6ZGbEzYzgJq"
   },
   "source": [
    "<h1>1. Business Problem </h1>"
   ]
  },
  {
   "cell_type": "markdown",
   "metadata": {
    "colab_type": "text",
    "id": "j1ackj3mzgJr"
   },
   "source": [
    "<p>\n",
    "The goal of this competition is to provide a simple extension to the <b>Classic MNIST dataset</b> competition we're all familiar with. Instead of using Arabic numerals, it uses a recently-released dataset of Kannada digits. Kannada is a language spoken predominantly by people of Karnataka in southwestern India. The language has roughly 45 million native speakers and is written using the Kannada script</p>\n",
    "<p>wikipedia: https://en.wikipedia.org/wiki/Kannada </p>"
   ]
  },
  {
   "cell_type": "markdown",
   "metadata": {
    "colab_type": "text",
    "id": "WqScW3nJzgJs"
   },
   "source": [
    "<h2> 1.2 Problem Statement </h2>"
   ]
  },
  {
   "cell_type": "markdown",
   "metadata": {
    "colab_type": "text",
    "id": "aC-jGPWTzgJt"
   },
   "source": [
    "<p>\n",
    "Kaggle provided a large amount of pixel data and a mapped class labels for each image data point and we have to build a image classifier.\n",
    "</p>"
   ]
  },
  {
   "cell_type": "markdown",
   "metadata": {
    "colab_type": "text",
    "id": "qGUE1-IfzgJv"
   },
   "source": [
    "<h2> 1.3 Sources </h2>"
   ]
  },
  {
   "cell_type": "markdown",
   "metadata": {
    "colab_type": "text",
    "id": "oYAoAmGxzgJw"
   },
   "source": [
    "<ul>\n",
    "<li> https://www.kaggle.com/c/Kannada-MNIST/overview</li>\n",
    "<li> https://www.kaggle.com/c/Kannada-MNIST/discussion</li>\n",
    "</ul>"
   ]
  },
  {
   "cell_type": "markdown",
   "metadata": {
    "colab_type": "text",
    "id": "7K3YbTzIzgJx"
   },
   "source": [
    "<h2>1.4 Real world Objectives  </h2>"
   ]
  },
  {
   "cell_type": "markdown",
   "metadata": {
    "colab_type": "text",
    "id": "sckSc-BVzgJy"
   },
   "source": [
    "Objectives:\n",
    "1. classify the image based on the pixel data provided amoung the 10 different labels.\n",
    "2. Build model that can classify images with Maximum Accuracy (Accuracy is the number of correct predictions made divided by the total number of predictions made multiplied by 100 to turn it into a percentage)\n",
    "<br>"
   ]
  },
  {
   "cell_type": "markdown",
   "metadata": {
    "colab_type": "text",
    "id": "cCog7m6DzgJz"
   },
   "source": [
    "<h1> 2. Machine Learning Problem </h1>"
   ]
  },
  {
   "cell_type": "markdown",
   "metadata": {
    "colab_type": "text",
    "id": "ddD7Te-kzgJ0"
   },
   "source": [
    "<h2>2.1 Data </h2>"
   ]
  },
  {
   "cell_type": "markdown",
   "metadata": {
    "colab_type": "text",
    "id": "nmOeMBVwzgJ1"
   },
   "source": [
    "<h3> 2.1.1 Data Overview </h3>"
   ]
  },
  {
   "cell_type": "markdown",
   "metadata": {
    "colab_type": "text",
    "id": "HtHPwRcjzgJ2"
   },
   "source": [
    "<p> Get the data from : https://www.kaggle.com/c/Kannada-MNIST/data </p>\n",
    "<p> \n",
    "The data files train.csv contain gray-scale images of hand-drawn digits, from zero through nine, in the Kannada script.\n",
    "Each image is 28 pixels in height and 28 pixels in width, for a total of 784 pixels in total. Each pixel has a single pixel-value associated with it, indicating the lightness or darkness of that pixel, with higher numbers meaning darker. This pixel-value is an integer between 0 and 255\n",
    "</p>\n",
    "<p>\n",
    "The training data set, train.csv, also has 785 columns. The first column, called label, is the digit that was drawn by the user. The rest of the columns contain the pixel-values of the associated image.\n",
    "</p>"
   ]
  },
  {
   "cell_type": "markdown",
   "metadata": {
    "colab_type": "text",
    "id": "DxBaROYyzgJ3"
   },
   "source": [
    "<h3> 2.2.1 Type of Machine Learning Problem </h3>"
   ]
  },
  {
   "cell_type": "markdown",
   "metadata": {
    "colab_type": "text",
    "id": "vfqrpcUIzgJ4"
   },
   "source": [
    "* For a given pixel data we need to classify the image as digit and the given problem is a muliticlass Classification problem \n",
    "* It can also seen as a image processing problem "
   ]
  },
  {
   "cell_type": "markdown",
   "metadata": {
    "colab_type": "text",
    "id": "iFrWTQaCzgJ5"
   },
   "source": [
    "<h3> 2.2.2 Performance metric </h3>\n"
   ]
  },
  {
   "cell_type": "markdown",
   "metadata": {
    "colab_type": "text",
    "id": "F9RnSbKQzgJ6"
   },
   "source": [
    "<ul>\n",
    "<li> Accuracy score: https://en.wikipedia.org/wiki/Accuracy_and_precision </li>\n",
    "<li> Categorical_crossentropy: https://keras.io/losses/ </li>\n",
    "</ul>"
   ]
  },
  {
   "cell_type": "markdown",
   "metadata": {
    "colab_type": "text",
    "id": "z-zWzSDMzgJ7"
   },
   "source": [
    "<h3> 2.2.3 Machine Learning Objective and Constraints </h3>"
   ]
  },
  {
   "cell_type": "markdown",
   "metadata": {
    "colab_type": "text",
    "id": "8-gCDm30zgJ8"
   },
   "source": [
    "1. Maximize Multiclass Accuracy.\n",
    "2. Minimize Categorical_crossentropy(Multi-class-LogLoss) across all lables."
   ]
  },
  {
   "cell_type": "markdown",
   "metadata": {
    "colab_type": "text",
    "id": "YW2cyhDWzgJ9"
   },
   "source": [
    "<h2> 3. Exploratory Data Analysis and Preprocessing </h2> </h2>"
   ]
  },
  {
   "cell_type": "code",
   "execution_count": 0,
   "metadata": {
    "colab": {
     "base_uri": "https://localhost:8080/",
     "height": 34
    },
    "colab_type": "code",
    "id": "7rWlh5cFdVJc",
    "outputId": "910ed44d-12bf-42d4-cd9c-0c0181919d9f"
   },
   "outputs": [
    {
     "name": "stdout",
     "output_type": "stream",
     "text": [
      "Dataset Shape: (60000, 784)\n"
     ]
    }
   ],
   "source": [
    "# All Imports\n",
    "import pandas as pd\n",
    "import numpy as np\n",
    "from __future__ import print_function\n",
    "import keras\n",
    "from keras.datasets import mnist\n",
    "from keras.models import Sequential  \n",
    "from keras.layers import Dense, Dropout, Flatten,MaxPooling2D,Dense, Dropout, Flatten, Conv2D\n",
    "from keras.layers import Conv2D, MaxPool2D\n",
    "from keras import backend as K\n",
    "from sklearn.model_selection import train_test_split\n",
    "from sklearn.metrics import *\n",
    "import matplotlib.pyplot as plt\n",
    "from keras.utils import np_utils\n",
    "from keras.callbacks import ReduceLROnPlateau\n",
    "from keras.utils.np_utils import to_categorical \n",
    "import matplotlib.cm as cm\n",
    "import itertools\n",
    "%matplotlib inline\n",
    "\n",
    "data=pd.read_csv(\"train.csv\")\n",
    "Y=np.array(data['label'])\n",
    "data.drop(axis=1,columns='label',inplace=True)\n",
    "print(\"Dataset Shape:\",data.shape)"
   ]
  },
  {
   "cell_type": "code",
   "execution_count": 0,
   "metadata": {
    "colab": {},
    "colab_type": "code",
    "id": "pxBS6GvwzgKC",
    "outputId": "b21d307b-0140-4413-addf-8a088b45b427"
   },
   "outputs": [
    {
     "name": "stdout",
     "output_type": "stream",
     "text": [
      "Number of Nan values in our Data :  0\n"
     ]
    }
   ],
   "source": [
    "# checking nan_values\n",
    "print(\"Number of Nan values in our Data : \", sum(data.isnull().any()))"
   ]
  },
  {
   "cell_type": "code",
   "execution_count": 0,
   "metadata": {
    "colab": {},
    "colab_type": "code",
    "id": "vzJKuoeuzgKG",
    "outputId": "2817001c-de55-43c7-ccf1-1c8227f54885"
   },
   "outputs": [
    {
     "name": "stdout",
     "output_type": "stream",
     "text": [
      "Number of Duplicates in Data :  0\n"
     ]
    }
   ],
   "source": [
    "# checking for duplicates\n",
    "print(\"Number of Duplicates in Data : \", sum(data.duplicated()))"
   ]
  },
  {
   "cell_type": "code",
   "execution_count": 0,
   "metadata": {
    "colab": {},
    "colab_type": "code",
    "id": "-cCU-HXSzgKN",
    "outputId": "c6ec2a6f-7d88-4dda-f617-76d0745c4c08"
   },
   "outputs": [
    {
     "name": "stdout",
     "output_type": "stream",
     "text": [
      "Basic Information about Data:\n",
      "<class 'pandas.core.frame.DataFrame'>\n",
      "RangeIndex: 60000 entries, 0 to 59999\n",
      "Columns: 784 entries, pixel0 to pixel783\n",
      "dtypes: int64(784)\n",
      "memory usage: 358.9 MB\n"
     ]
    }
   ],
   "source": [
    "print(\"Basic Information about Data:\")\n",
    "data.info()"
   ]
  },
  {
   "cell_type": "code",
   "execution_count": 0,
   "metadata": {
    "colab": {
     "base_uri": "https://localhost:8080/",
     "height": 286
    },
    "colab_type": "code",
    "id": "386hqIyZ8sfH",
    "outputId": "fb17ab03-0567-4dcf-a1b1-c4e104975774"
   },
   "outputs": [
    {
     "data": {
      "text/plain": [
       "<matplotlib.axes._subplots.AxesSubplot at 0x7faea4c06710>"
      ]
     },
     "execution_count": 10,
     "metadata": {
      "tags": []
     },
     "output_type": "execute_result"
    },
    {
     "data": {
      "image/png": "[encoded data removed]",
      "text/plain": [
       "<Figure size 432x288 with 1 Axes>"
      ]
     },
     "metadata": {
      "tags": []
     },
     "output_type": "display_data"
    }
   ],
   "source": [
    "# checking distribution\n",
    "Y=np.array(data['label'])\n",
    "sns.countplot(Y)"
   ]
  },
  {
   "cell_type": "markdown",
   "metadata": {},
   "source": [
    "* we have a well balanced Dataset"
   ]
  },
  {
   "cell_type": "code",
   "execution_count": 0,
   "metadata": {
    "colab": {},
    "colab_type": "code",
    "id": "3k1wudq3uYJM"
   },
   "outputs": [],
   "source": [
    "# function confusion matrix\n",
    "plt.rcParams[\"font.family\"] = 'DejaVu Sans'\n",
    "cm_cmap=plt.cm.Greys\n",
    "class_labels=[0,1,2,3,4,5,6,7,8,9]\n",
    "def plot_confusion_matrix(cm, classes,\n",
    "                          normalize=False,\n",
    "                          title='Confusion matrix',\n",
    "                          cmap=plt.cm.Blues):\n",
    "    if normalize:\n",
    "        cm = cm.astype('float') / cm.sum(axis=1)[:, np.newaxis]\n",
    "\n",
    "    plt.imshow(cm, interpolation='nearest', cmap=cmap)\n",
    "    plt.title(title)\n",
    "    plt.colorbar()\n",
    "    tick_marks = np.arange(len(classes))\n",
    "    plt.xticks(tick_marks, classes, rotation=90)\n",
    "    plt.yticks(tick_marks, classes)\n",
    "\n",
    "    fmt = '.2f' if normalize else 'd'\n",
    "    thresh = cm.max() / 2.\n",
    "    for i, j in itertools.product(range(cm.shape[0]), range(cm.shape[1])):\n",
    "        plt.text(j, i, format(cm[i, j], fmt),\n",
    "                 horizontalalignment=\"center\",\n",
    "                 color=\"white\" if cm[i, j] > thresh else \"black\")\n",
    "\n",
    "    plt.tight_layout()\n",
    "    plt.ylabel('True label')\n",
    "    plt.xlabel('Predicted label')"
   ]
  },
  {
   "cell_type": "markdown",
   "metadata": {
    "colab_type": "text",
    "id": "6hlmnTtapxN7"
   },
   "source": [
    "<h2> 4. Train test split </h2>"
   ]
  },
  {
   "cell_type": "code",
   "execution_count": 0,
   "metadata": {
    "colab": {
     "base_uri": "https://localhost:8080/",
     "height": 222
    },
    "colab_type": "code",
    "id": "DMmU2YsU-izM",
    "outputId": "7643c626-2875-4e26-8e73-30bd40e7c0d2"
   },
   "outputs": [
    {
     "data": {
      "text/html": [
       "<div>\n",
       "<style scoped>\n",
       "    .dataframe tbody tr th:only-of-type {\n",
       "        vertical-align: middle;\n",
       "    }\n",
       "\n",
       "    .dataframe tbody tr th {\n",
       "        vertical-align: top;\n",
       "    }\n",
       "\n",
       "    .dataframe thead th {\n",
       "        text-align: right;\n",
       "    }\n",
       "</style>\n",
       "<table border=\"1\" class=\"dataframe\">\n",
       "  <thead>\n",
       "    <tr style=\"text-align: right;\">\n",
       "      <th></th>\n",
       "      <th>pixel0</th>\n",
       "      <th>pixel1</th>\n",
       "      <th>pixel2</th>\n",
       "      <th>pixel3</th>\n",
       "      <th>pixel4</th>\n",
       "      <th>pixel5</th>\n",
       "      <th>pixel6</th>\n",
       "      <th>pixel7</th>\n",
       "      <th>pixel8</th>\n",
       "      <th>pixel9</th>\n",
       "      <th>pixel10</th>\n",
       "      <th>pixel11</th>\n",
       "      <th>pixel12</th>\n",
       "      <th>pixel13</th>\n",
       "      <th>pixel14</th>\n",
       "      <th>pixel15</th>\n",
       "      <th>pixel16</th>\n",
       "      <th>pixel17</th>\n",
       "      <th>pixel18</th>\n",
       "      <th>pixel19</th>\n",
       "      <th>pixel20</th>\n",
       "      <th>pixel21</th>\n",
       "      <th>pixel22</th>\n",
       "      <th>pixel23</th>\n",
       "      <th>pixel24</th>\n",
       "      <th>pixel25</th>\n",
       "      <th>pixel26</th>\n",
       "      <th>pixel27</th>\n",
       "      <th>pixel28</th>\n",
       "      <th>pixel29</th>\n",
       "      <th>pixel30</th>\n",
       "      <th>pixel31</th>\n",
       "      <th>pixel32</th>\n",
       "      <th>pixel33</th>\n",
       "      <th>pixel34</th>\n",
       "      <th>pixel35</th>\n",
       "      <th>pixel36</th>\n",
       "      <th>pixel37</th>\n",
       "      <th>pixel38</th>\n",
       "      <th>pixel39</th>\n",
       "      <th>...</th>\n",
       "      <th>pixel744</th>\n",
       "      <th>pixel745</th>\n",
       "      <th>pixel746</th>\n",
       "      <th>pixel747</th>\n",
       "      <th>pixel748</th>\n",
       "      <th>pixel749</th>\n",
       "      <th>pixel750</th>\n",
       "      <th>pixel751</th>\n",
       "      <th>pixel752</th>\n",
       "      <th>pixel753</th>\n",
       "      <th>pixel754</th>\n",
       "      <th>pixel755</th>\n",
       "      <th>pixel756</th>\n",
       "      <th>pixel757</th>\n",
       "      <th>pixel758</th>\n",
       "      <th>pixel759</th>\n",
       "      <th>pixel760</th>\n",
       "      <th>pixel761</th>\n",
       "      <th>pixel762</th>\n",
       "      <th>pixel763</th>\n",
       "      <th>pixel764</th>\n",
       "      <th>pixel765</th>\n",
       "      <th>pixel766</th>\n",
       "      <th>pixel767</th>\n",
       "      <th>pixel768</th>\n",
       "      <th>pixel769</th>\n",
       "      <th>pixel770</th>\n",
       "      <th>pixel771</th>\n",
       "      <th>pixel772</th>\n",
       "      <th>pixel773</th>\n",
       "      <th>pixel774</th>\n",
       "      <th>pixel775</th>\n",
       "      <th>pixel776</th>\n",
       "      <th>pixel777</th>\n",
       "      <th>pixel778</th>\n",
       "      <th>pixel779</th>\n",
       "      <th>pixel780</th>\n",
       "      <th>pixel781</th>\n",
       "      <th>pixel782</th>\n",
       "      <th>pixel783</th>\n",
       "    </tr>\n",
       "  </thead>\n",
       "  <tbody>\n",
       "    <tr>\n",
       "      <th>6724</th>\n",
       "      <td>0</td>\n",
       "      <td>0</td>\n",
       "      <td>0</td>\n",
       "      <td>0</td>\n",
       "      <td>0</td>\n",
       "      <td>0</td>\n",
       "      <td>0</td>\n",
       "      <td>0</td>\n",
       "      <td>0</td>\n",
       "      <td>0</td>\n",
       "      <td>0</td>\n",
       "      <td>0</td>\n",
       "      <td>0</td>\n",
       "      <td>0</td>\n",
       "      <td>0</td>\n",
       "      <td>0</td>\n",
       "      <td>0</td>\n",
       "      <td>0</td>\n",
       "      <td>0</td>\n",
       "      <td>0</td>\n",
       "      <td>0</td>\n",
       "      <td>0</td>\n",
       "      <td>0</td>\n",
       "      <td>0</td>\n",
       "      <td>0</td>\n",
       "      <td>0</td>\n",
       "      <td>0</td>\n",
       "      <td>0</td>\n",
       "      <td>0</td>\n",
       "      <td>0</td>\n",
       "      <td>0</td>\n",
       "      <td>0</td>\n",
       "      <td>0</td>\n",
       "      <td>0</td>\n",
       "      <td>0</td>\n",
       "      <td>0</td>\n",
       "      <td>0</td>\n",
       "      <td>0</td>\n",
       "      <td>0</td>\n",
       "      <td>0</td>\n",
       "      <td>...</td>\n",
       "      <td>0</td>\n",
       "      <td>0</td>\n",
       "      <td>0</td>\n",
       "      <td>0</td>\n",
       "      <td>0</td>\n",
       "      <td>0</td>\n",
       "      <td>0</td>\n",
       "      <td>0</td>\n",
       "      <td>0</td>\n",
       "      <td>0</td>\n",
       "      <td>0</td>\n",
       "      <td>0</td>\n",
       "      <td>0</td>\n",
       "      <td>0</td>\n",
       "      <td>0</td>\n",
       "      <td>0</td>\n",
       "      <td>0</td>\n",
       "      <td>0</td>\n",
       "      <td>0</td>\n",
       "      <td>0</td>\n",
       "      <td>0</td>\n",
       "      <td>0</td>\n",
       "      <td>0</td>\n",
       "      <td>0</td>\n",
       "      <td>0</td>\n",
       "      <td>0</td>\n",
       "      <td>0</td>\n",
       "      <td>0</td>\n",
       "      <td>0</td>\n",
       "      <td>0</td>\n",
       "      <td>0</td>\n",
       "      <td>0</td>\n",
       "      <td>0</td>\n",
       "      <td>0</td>\n",
       "      <td>0</td>\n",
       "      <td>0</td>\n",
       "      <td>0</td>\n",
       "      <td>0</td>\n",
       "      <td>0</td>\n",
       "      <td>0</td>\n",
       "    </tr>\n",
       "    <tr>\n",
       "      <th>16104</th>\n",
       "      <td>0</td>\n",
       "      <td>0</td>\n",
       "      <td>0</td>\n",
       "      <td>0</td>\n",
       "      <td>0</td>\n",
       "      <td>0</td>\n",
       "      <td>0</td>\n",
       "      <td>0</td>\n",
       "      <td>0</td>\n",
       "      <td>0</td>\n",
       "      <td>0</td>\n",
       "      <td>0</td>\n",
       "      <td>0</td>\n",
       "      <td>0</td>\n",
       "      <td>0</td>\n",
       "      <td>0</td>\n",
       "      <td>0</td>\n",
       "      <td>0</td>\n",
       "      <td>0</td>\n",
       "      <td>0</td>\n",
       "      <td>0</td>\n",
       "      <td>0</td>\n",
       "      <td>0</td>\n",
       "      <td>0</td>\n",
       "      <td>0</td>\n",
       "      <td>0</td>\n",
       "      <td>0</td>\n",
       "      <td>0</td>\n",
       "      <td>0</td>\n",
       "      <td>0</td>\n",
       "      <td>0</td>\n",
       "      <td>0</td>\n",
       "      <td>0</td>\n",
       "      <td>0</td>\n",
       "      <td>0</td>\n",
       "      <td>0</td>\n",
       "      <td>0</td>\n",
       "      <td>0</td>\n",
       "      <td>0</td>\n",
       "      <td>0</td>\n",
       "      <td>...</td>\n",
       "      <td>0</td>\n",
       "      <td>0</td>\n",
       "      <td>0</td>\n",
       "      <td>0</td>\n",
       "      <td>0</td>\n",
       "      <td>0</td>\n",
       "      <td>0</td>\n",
       "      <td>0</td>\n",
       "      <td>0</td>\n",
       "      <td>0</td>\n",
       "      <td>0</td>\n",
       "      <td>0</td>\n",
       "      <td>0</td>\n",
       "      <td>0</td>\n",
       "      <td>0</td>\n",
       "      <td>0</td>\n",
       "      <td>0</td>\n",
       "      <td>0</td>\n",
       "      <td>0</td>\n",
       "      <td>0</td>\n",
       "      <td>0</td>\n",
       "      <td>0</td>\n",
       "      <td>0</td>\n",
       "      <td>0</td>\n",
       "      <td>0</td>\n",
       "      <td>0</td>\n",
       "      <td>0</td>\n",
       "      <td>0</td>\n",
       "      <td>0</td>\n",
       "      <td>0</td>\n",
       "      <td>0</td>\n",
       "      <td>0</td>\n",
       "      <td>0</td>\n",
       "      <td>0</td>\n",
       "      <td>0</td>\n",
       "      <td>0</td>\n",
       "      <td>0</td>\n",
       "      <td>0</td>\n",
       "      <td>0</td>\n",
       "      <td>0</td>\n",
       "    </tr>\n",
       "    <tr>\n",
       "      <th>59462</th>\n",
       "      <td>0</td>\n",
       "      <td>0</td>\n",
       "      <td>0</td>\n",
       "      <td>0</td>\n",
       "      <td>0</td>\n",
       "      <td>0</td>\n",
       "      <td>0</td>\n",
       "      <td>0</td>\n",
       "      <td>0</td>\n",
       "      <td>0</td>\n",
       "      <td>0</td>\n",
       "      <td>0</td>\n",
       "      <td>0</td>\n",
       "      <td>0</td>\n",
       "      <td>0</td>\n",
       "      <td>0</td>\n",
       "      <td>0</td>\n",
       "      <td>0</td>\n",
       "      <td>0</td>\n",
       "      <td>0</td>\n",
       "      <td>0</td>\n",
       "      <td>0</td>\n",
       "      <td>0</td>\n",
       "      <td>0</td>\n",
       "      <td>0</td>\n",
       "      <td>0</td>\n",
       "      <td>0</td>\n",
       "      <td>0</td>\n",
       "      <td>0</td>\n",
       "      <td>0</td>\n",
       "      <td>0</td>\n",
       "      <td>0</td>\n",
       "      <td>0</td>\n",
       "      <td>0</td>\n",
       "      <td>0</td>\n",
       "      <td>0</td>\n",
       "      <td>0</td>\n",
       "      <td>0</td>\n",
       "      <td>0</td>\n",
       "      <td>0</td>\n",
       "      <td>...</td>\n",
       "      <td>0</td>\n",
       "      <td>0</td>\n",
       "      <td>0</td>\n",
       "      <td>0</td>\n",
       "      <td>0</td>\n",
       "      <td>0</td>\n",
       "      <td>0</td>\n",
       "      <td>0</td>\n",
       "      <td>0</td>\n",
       "      <td>0</td>\n",
       "      <td>0</td>\n",
       "      <td>0</td>\n",
       "      <td>0</td>\n",
       "      <td>0</td>\n",
       "      <td>0</td>\n",
       "      <td>0</td>\n",
       "      <td>0</td>\n",
       "      <td>0</td>\n",
       "      <td>0</td>\n",
       "      <td>0</td>\n",
       "      <td>0</td>\n",
       "      <td>0</td>\n",
       "      <td>0</td>\n",
       "      <td>0</td>\n",
       "      <td>0</td>\n",
       "      <td>0</td>\n",
       "      <td>0</td>\n",
       "      <td>0</td>\n",
       "      <td>0</td>\n",
       "      <td>0</td>\n",
       "      <td>0</td>\n",
       "      <td>0</td>\n",
       "      <td>0</td>\n",
       "      <td>0</td>\n",
       "      <td>0</td>\n",
       "      <td>0</td>\n",
       "      <td>0</td>\n",
       "      <td>0</td>\n",
       "      <td>0</td>\n",
       "      <td>0</td>\n",
       "    </tr>\n",
       "    <tr>\n",
       "      <th>45415</th>\n",
       "      <td>0</td>\n",
       "      <td>0</td>\n",
       "      <td>0</td>\n",
       "      <td>0</td>\n",
       "      <td>0</td>\n",
       "      <td>0</td>\n",
       "      <td>0</td>\n",
       "      <td>0</td>\n",
       "      <td>0</td>\n",
       "      <td>0</td>\n",
       "      <td>0</td>\n",
       "      <td>0</td>\n",
       "      <td>0</td>\n",
       "      <td>0</td>\n",
       "      <td>0</td>\n",
       "      <td>0</td>\n",
       "      <td>0</td>\n",
       "      <td>0</td>\n",
       "      <td>0</td>\n",
       "      <td>0</td>\n",
       "      <td>0</td>\n",
       "      <td>0</td>\n",
       "      <td>0</td>\n",
       "      <td>0</td>\n",
       "      <td>0</td>\n",
       "      <td>0</td>\n",
       "      <td>0</td>\n",
       "      <td>0</td>\n",
       "      <td>0</td>\n",
       "      <td>0</td>\n",
       "      <td>0</td>\n",
       "      <td>0</td>\n",
       "      <td>0</td>\n",
       "      <td>0</td>\n",
       "      <td>0</td>\n",
       "      <td>0</td>\n",
       "      <td>0</td>\n",
       "      <td>0</td>\n",
       "      <td>0</td>\n",
       "      <td>0</td>\n",
       "      <td>...</td>\n",
       "      <td>0</td>\n",
       "      <td>0</td>\n",
       "      <td>0</td>\n",
       "      <td>0</td>\n",
       "      <td>0</td>\n",
       "      <td>0</td>\n",
       "      <td>0</td>\n",
       "      <td>0</td>\n",
       "      <td>0</td>\n",
       "      <td>0</td>\n",
       "      <td>0</td>\n",
       "      <td>0</td>\n",
       "      <td>0</td>\n",
       "      <td>0</td>\n",
       "      <td>0</td>\n",
       "      <td>0</td>\n",
       "      <td>0</td>\n",
       "      <td>0</td>\n",
       "      <td>0</td>\n",
       "      <td>0</td>\n",
       "      <td>0</td>\n",
       "      <td>0</td>\n",
       "      <td>0</td>\n",
       "      <td>0</td>\n",
       "      <td>0</td>\n",
       "      <td>0</td>\n",
       "      <td>0</td>\n",
       "      <td>0</td>\n",
       "      <td>0</td>\n",
       "      <td>0</td>\n",
       "      <td>0</td>\n",
       "      <td>0</td>\n",
       "      <td>0</td>\n",
       "      <td>0</td>\n",
       "      <td>0</td>\n",
       "      <td>0</td>\n",
       "      <td>0</td>\n",
       "      <td>0</td>\n",
       "      <td>0</td>\n",
       "      <td>0</td>\n",
       "    </tr>\n",
       "  </tbody>\n",
       "</table>\n",
       "<p>4 rows × 784 columns</p>\n",
       "</div>"
      ],
      "text/plain": [
       "       pixel0  pixel1  pixel2  pixel3  ...  pixel780  pixel781  pixel782  pixel783\n",
       "6724        0       0       0       0  ...         0         0         0         0\n",
       "16104       0       0       0       0  ...         0         0         0         0\n",
       "59462       0       0       0       0  ...         0         0         0         0\n",
       "45415       0       0       0       0  ...         0         0         0         0\n",
       "\n",
       "[4 rows x 784 columns]"
      ]
     },
     "execution_count": 8,
     "metadata": {
      "tags": []
     },
     "output_type": "execute_result"
    }
   ],
   "source": [
    "# train test split\n",
    "train, test, y_train, y_test = train_test_split(data, Y,test_size=0.3,random_state=42,stratify=Y)\n",
    "train.head(4)"
   ]
  },
  {
   "cell_type": "code",
   "execution_count": 0,
   "metadata": {
    "colab": {
     "base_uri": "https://localhost:8080/",
     "height": 222
    },
    "colab_type": "code",
    "id": "tdWVoDYRd_PE",
    "outputId": "3aa36d78-2d99-4c99-9cc1-aa48c93c6979"
   },
   "outputs": [
    {
     "data": {
      "text/html": [
       "<div>\n",
       "<style scoped>\n",
       "    .dataframe tbody tr th:only-of-type {\n",
       "        vertical-align: middle;\n",
       "    }\n",
       "\n",
       "    .dataframe tbody tr th {\n",
       "        vertical-align: top;\n",
       "    }\n",
       "\n",
       "    .dataframe thead th {\n",
       "        text-align: right;\n",
       "    }\n",
       "</style>\n",
       "<table border=\"1\" class=\"dataframe\">\n",
       "  <thead>\n",
       "    <tr style=\"text-align: right;\">\n",
       "      <th></th>\n",
       "      <th>pixel0</th>\n",
       "      <th>pixel1</th>\n",
       "      <th>pixel2</th>\n",
       "      <th>pixel3</th>\n",
       "      <th>pixel4</th>\n",
       "      <th>pixel5</th>\n",
       "      <th>pixel6</th>\n",
       "      <th>pixel7</th>\n",
       "      <th>pixel8</th>\n",
       "      <th>pixel9</th>\n",
       "      <th>pixel10</th>\n",
       "      <th>pixel11</th>\n",
       "      <th>pixel12</th>\n",
       "      <th>pixel13</th>\n",
       "      <th>pixel14</th>\n",
       "      <th>pixel15</th>\n",
       "      <th>pixel16</th>\n",
       "      <th>pixel17</th>\n",
       "      <th>pixel18</th>\n",
       "      <th>pixel19</th>\n",
       "      <th>pixel20</th>\n",
       "      <th>pixel21</th>\n",
       "      <th>pixel22</th>\n",
       "      <th>pixel23</th>\n",
       "      <th>pixel24</th>\n",
       "      <th>pixel25</th>\n",
       "      <th>pixel26</th>\n",
       "      <th>pixel27</th>\n",
       "      <th>pixel28</th>\n",
       "      <th>pixel29</th>\n",
       "      <th>pixel30</th>\n",
       "      <th>pixel31</th>\n",
       "      <th>pixel32</th>\n",
       "      <th>pixel33</th>\n",
       "      <th>pixel34</th>\n",
       "      <th>pixel35</th>\n",
       "      <th>pixel36</th>\n",
       "      <th>pixel37</th>\n",
       "      <th>pixel38</th>\n",
       "      <th>pixel39</th>\n",
       "      <th>...</th>\n",
       "      <th>pixel744</th>\n",
       "      <th>pixel745</th>\n",
       "      <th>pixel746</th>\n",
       "      <th>pixel747</th>\n",
       "      <th>pixel748</th>\n",
       "      <th>pixel749</th>\n",
       "      <th>pixel750</th>\n",
       "      <th>pixel751</th>\n",
       "      <th>pixel752</th>\n",
       "      <th>pixel753</th>\n",
       "      <th>pixel754</th>\n",
       "      <th>pixel755</th>\n",
       "      <th>pixel756</th>\n",
       "      <th>pixel757</th>\n",
       "      <th>pixel758</th>\n",
       "      <th>pixel759</th>\n",
       "      <th>pixel760</th>\n",
       "      <th>pixel761</th>\n",
       "      <th>pixel762</th>\n",
       "      <th>pixel763</th>\n",
       "      <th>pixel764</th>\n",
       "      <th>pixel765</th>\n",
       "      <th>pixel766</th>\n",
       "      <th>pixel767</th>\n",
       "      <th>pixel768</th>\n",
       "      <th>pixel769</th>\n",
       "      <th>pixel770</th>\n",
       "      <th>pixel771</th>\n",
       "      <th>pixel772</th>\n",
       "      <th>pixel773</th>\n",
       "      <th>pixel774</th>\n",
       "      <th>pixel775</th>\n",
       "      <th>pixel776</th>\n",
       "      <th>pixel777</th>\n",
       "      <th>pixel778</th>\n",
       "      <th>pixel779</th>\n",
       "      <th>pixel780</th>\n",
       "      <th>pixel781</th>\n",
       "      <th>pixel782</th>\n",
       "      <th>pixel783</th>\n",
       "    </tr>\n",
       "  </thead>\n",
       "  <tbody>\n",
       "    <tr>\n",
       "      <th>15107</th>\n",
       "      <td>0</td>\n",
       "      <td>0</td>\n",
       "      <td>0</td>\n",
       "      <td>0</td>\n",
       "      <td>0</td>\n",
       "      <td>0</td>\n",
       "      <td>0</td>\n",
       "      <td>0</td>\n",
       "      <td>0</td>\n",
       "      <td>0</td>\n",
       "      <td>0</td>\n",
       "      <td>0</td>\n",
       "      <td>0</td>\n",
       "      <td>0</td>\n",
       "      <td>0</td>\n",
       "      <td>0</td>\n",
       "      <td>0</td>\n",
       "      <td>0</td>\n",
       "      <td>0</td>\n",
       "      <td>0</td>\n",
       "      <td>0</td>\n",
       "      <td>0</td>\n",
       "      <td>0</td>\n",
       "      <td>0</td>\n",
       "      <td>0</td>\n",
       "      <td>0</td>\n",
       "      <td>0</td>\n",
       "      <td>0</td>\n",
       "      <td>0</td>\n",
       "      <td>0</td>\n",
       "      <td>0</td>\n",
       "      <td>0</td>\n",
       "      <td>0</td>\n",
       "      <td>0</td>\n",
       "      <td>0</td>\n",
       "      <td>0</td>\n",
       "      <td>0</td>\n",
       "      <td>0</td>\n",
       "      <td>0</td>\n",
       "      <td>0</td>\n",
       "      <td>...</td>\n",
       "      <td>0</td>\n",
       "      <td>0</td>\n",
       "      <td>0</td>\n",
       "      <td>0</td>\n",
       "      <td>0</td>\n",
       "      <td>0</td>\n",
       "      <td>0</td>\n",
       "      <td>0</td>\n",
       "      <td>0</td>\n",
       "      <td>0</td>\n",
       "      <td>0</td>\n",
       "      <td>0</td>\n",
       "      <td>0</td>\n",
       "      <td>0</td>\n",
       "      <td>0</td>\n",
       "      <td>0</td>\n",
       "      <td>0</td>\n",
       "      <td>0</td>\n",
       "      <td>0</td>\n",
       "      <td>0</td>\n",
       "      <td>0</td>\n",
       "      <td>0</td>\n",
       "      <td>0</td>\n",
       "      <td>0</td>\n",
       "      <td>0</td>\n",
       "      <td>0</td>\n",
       "      <td>0</td>\n",
       "      <td>0</td>\n",
       "      <td>0</td>\n",
       "      <td>0</td>\n",
       "      <td>0</td>\n",
       "      <td>0</td>\n",
       "      <td>0</td>\n",
       "      <td>0</td>\n",
       "      <td>0</td>\n",
       "      <td>0</td>\n",
       "      <td>0</td>\n",
       "      <td>0</td>\n",
       "      <td>0</td>\n",
       "      <td>0</td>\n",
       "    </tr>\n",
       "    <tr>\n",
       "      <th>17891</th>\n",
       "      <td>0</td>\n",
       "      <td>0</td>\n",
       "      <td>0</td>\n",
       "      <td>0</td>\n",
       "      <td>0</td>\n",
       "      <td>0</td>\n",
       "      <td>0</td>\n",
       "      <td>0</td>\n",
       "      <td>0</td>\n",
       "      <td>0</td>\n",
       "      <td>0</td>\n",
       "      <td>0</td>\n",
       "      <td>0</td>\n",
       "      <td>0</td>\n",
       "      <td>0</td>\n",
       "      <td>0</td>\n",
       "      <td>0</td>\n",
       "      <td>0</td>\n",
       "      <td>0</td>\n",
       "      <td>0</td>\n",
       "      <td>0</td>\n",
       "      <td>0</td>\n",
       "      <td>0</td>\n",
       "      <td>0</td>\n",
       "      <td>0</td>\n",
       "      <td>0</td>\n",
       "      <td>0</td>\n",
       "      <td>0</td>\n",
       "      <td>0</td>\n",
       "      <td>0</td>\n",
       "      <td>0</td>\n",
       "      <td>0</td>\n",
       "      <td>0</td>\n",
       "      <td>0</td>\n",
       "      <td>0</td>\n",
       "      <td>0</td>\n",
       "      <td>0</td>\n",
       "      <td>0</td>\n",
       "      <td>0</td>\n",
       "      <td>0</td>\n",
       "      <td>...</td>\n",
       "      <td>0</td>\n",
       "      <td>0</td>\n",
       "      <td>0</td>\n",
       "      <td>0</td>\n",
       "      <td>0</td>\n",
       "      <td>0</td>\n",
       "      <td>0</td>\n",
       "      <td>0</td>\n",
       "      <td>0</td>\n",
       "      <td>0</td>\n",
       "      <td>0</td>\n",
       "      <td>0</td>\n",
       "      <td>0</td>\n",
       "      <td>0</td>\n",
       "      <td>0</td>\n",
       "      <td>0</td>\n",
       "      <td>0</td>\n",
       "      <td>0</td>\n",
       "      <td>0</td>\n",
       "      <td>0</td>\n",
       "      <td>0</td>\n",
       "      <td>0</td>\n",
       "      <td>0</td>\n",
       "      <td>0</td>\n",
       "      <td>0</td>\n",
       "      <td>0</td>\n",
       "      <td>0</td>\n",
       "      <td>0</td>\n",
       "      <td>0</td>\n",
       "      <td>0</td>\n",
       "      <td>0</td>\n",
       "      <td>0</td>\n",
       "      <td>0</td>\n",
       "      <td>0</td>\n",
       "      <td>0</td>\n",
       "      <td>0</td>\n",
       "      <td>0</td>\n",
       "      <td>0</td>\n",
       "      <td>0</td>\n",
       "      <td>0</td>\n",
       "    </tr>\n",
       "    <tr>\n",
       "      <th>34485</th>\n",
       "      <td>0</td>\n",
       "      <td>0</td>\n",
       "      <td>0</td>\n",
       "      <td>0</td>\n",
       "      <td>0</td>\n",
       "      <td>0</td>\n",
       "      <td>0</td>\n",
       "      <td>0</td>\n",
       "      <td>0</td>\n",
       "      <td>0</td>\n",
       "      <td>0</td>\n",
       "      <td>0</td>\n",
       "      <td>0</td>\n",
       "      <td>0</td>\n",
       "      <td>0</td>\n",
       "      <td>0</td>\n",
       "      <td>0</td>\n",
       "      <td>0</td>\n",
       "      <td>0</td>\n",
       "      <td>0</td>\n",
       "      <td>0</td>\n",
       "      <td>0</td>\n",
       "      <td>0</td>\n",
       "      <td>0</td>\n",
       "      <td>0</td>\n",
       "      <td>0</td>\n",
       "      <td>0</td>\n",
       "      <td>0</td>\n",
       "      <td>0</td>\n",
       "      <td>0</td>\n",
       "      <td>0</td>\n",
       "      <td>0</td>\n",
       "      <td>0</td>\n",
       "      <td>0</td>\n",
       "      <td>0</td>\n",
       "      <td>0</td>\n",
       "      <td>0</td>\n",
       "      <td>0</td>\n",
       "      <td>0</td>\n",
       "      <td>0</td>\n",
       "      <td>...</td>\n",
       "      <td>0</td>\n",
       "      <td>0</td>\n",
       "      <td>0</td>\n",
       "      <td>0</td>\n",
       "      <td>0</td>\n",
       "      <td>0</td>\n",
       "      <td>0</td>\n",
       "      <td>0</td>\n",
       "      <td>0</td>\n",
       "      <td>0</td>\n",
       "      <td>0</td>\n",
       "      <td>0</td>\n",
       "      <td>0</td>\n",
       "      <td>0</td>\n",
       "      <td>0</td>\n",
       "      <td>0</td>\n",
       "      <td>0</td>\n",
       "      <td>0</td>\n",
       "      <td>0</td>\n",
       "      <td>0</td>\n",
       "      <td>0</td>\n",
       "      <td>0</td>\n",
       "      <td>0</td>\n",
       "      <td>0</td>\n",
       "      <td>0</td>\n",
       "      <td>0</td>\n",
       "      <td>0</td>\n",
       "      <td>0</td>\n",
       "      <td>0</td>\n",
       "      <td>0</td>\n",
       "      <td>0</td>\n",
       "      <td>0</td>\n",
       "      <td>0</td>\n",
       "      <td>0</td>\n",
       "      <td>0</td>\n",
       "      <td>0</td>\n",
       "      <td>0</td>\n",
       "      <td>0</td>\n",
       "      <td>0</td>\n",
       "      <td>0</td>\n",
       "    </tr>\n",
       "    <tr>\n",
       "      <th>35533</th>\n",
       "      <td>0</td>\n",
       "      <td>0</td>\n",
       "      <td>0</td>\n",
       "      <td>0</td>\n",
       "      <td>0</td>\n",
       "      <td>0</td>\n",
       "      <td>0</td>\n",
       "      <td>0</td>\n",
       "      <td>0</td>\n",
       "      <td>0</td>\n",
       "      <td>0</td>\n",
       "      <td>0</td>\n",
       "      <td>0</td>\n",
       "      <td>0</td>\n",
       "      <td>0</td>\n",
       "      <td>0</td>\n",
       "      <td>0</td>\n",
       "      <td>0</td>\n",
       "      <td>0</td>\n",
       "      <td>0</td>\n",
       "      <td>0</td>\n",
       "      <td>0</td>\n",
       "      <td>0</td>\n",
       "      <td>0</td>\n",
       "      <td>0</td>\n",
       "      <td>0</td>\n",
       "      <td>0</td>\n",
       "      <td>0</td>\n",
       "      <td>0</td>\n",
       "      <td>0</td>\n",
       "      <td>0</td>\n",
       "      <td>0</td>\n",
       "      <td>0</td>\n",
       "      <td>0</td>\n",
       "      <td>0</td>\n",
       "      <td>0</td>\n",
       "      <td>0</td>\n",
       "      <td>0</td>\n",
       "      <td>0</td>\n",
       "      <td>0</td>\n",
       "      <td>...</td>\n",
       "      <td>0</td>\n",
       "      <td>0</td>\n",
       "      <td>0</td>\n",
       "      <td>0</td>\n",
       "      <td>0</td>\n",
       "      <td>0</td>\n",
       "      <td>0</td>\n",
       "      <td>0</td>\n",
       "      <td>0</td>\n",
       "      <td>0</td>\n",
       "      <td>0</td>\n",
       "      <td>0</td>\n",
       "      <td>0</td>\n",
       "      <td>0</td>\n",
       "      <td>0</td>\n",
       "      <td>0</td>\n",
       "      <td>0</td>\n",
       "      <td>0</td>\n",
       "      <td>0</td>\n",
       "      <td>0</td>\n",
       "      <td>0</td>\n",
       "      <td>0</td>\n",
       "      <td>0</td>\n",
       "      <td>0</td>\n",
       "      <td>0</td>\n",
       "      <td>0</td>\n",
       "      <td>0</td>\n",
       "      <td>0</td>\n",
       "      <td>0</td>\n",
       "      <td>0</td>\n",
       "      <td>0</td>\n",
       "      <td>0</td>\n",
       "      <td>0</td>\n",
       "      <td>0</td>\n",
       "      <td>0</td>\n",
       "      <td>0</td>\n",
       "      <td>0</td>\n",
       "      <td>0</td>\n",
       "      <td>0</td>\n",
       "      <td>0</td>\n",
       "    </tr>\n",
       "  </tbody>\n",
       "</table>\n",
       "<p>4 rows × 784 columns</p>\n",
       "</div>"
      ],
      "text/plain": [
       "       pixel0  pixel1  pixel2  pixel3  ...  pixel780  pixel781  pixel782  pixel783\n",
       "15107       0       0       0       0  ...         0         0         0         0\n",
       "17891       0       0       0       0  ...         0         0         0         0\n",
       "34485       0       0       0       0  ...         0         0         0         0\n",
       "35533       0       0       0       0  ...         0         0         0         0\n",
       "\n",
       "[4 rows x 784 columns]"
      ]
     },
     "execution_count": 9,
     "metadata": {
      "tags": []
     },
     "output_type": "execute_result"
    }
   ],
   "source": [
    "test.head(4)"
   ]
  },
  {
   "cell_type": "markdown",
   "metadata": {
    "colab_type": "text",
    "id": "C26KmgmKzgKh"
   },
   "source": [
    "<h2> 5. Data Preparation </h2>"
   ]
  },
  {
   "cell_type": "code",
   "execution_count": 0,
   "metadata": {
    "colab": {
     "base_uri": "https://localhost:8080/",
     "height": 286
    },
    "colab_type": "code",
    "id": "arpHnXYt4e9P",
    "outputId": "6f80596e-f19f-40c5-fbc8-baccd2cb3942"
   },
   "outputs": [
    {
     "data": {
      "text/plain": [
       "<matplotlib.image.AxesImage at 0x7faea0dae320>"
      ]
     },
     "execution_count": 11,
     "metadata": {
      "tags": []
     },
     "output_type": "execute_result"
    },
    {
     "data": {
      "image/png": "[encoded data removed]",
      "text/plain": [
       "<Figure size 432x288 with 4 Axes>"
      ]
     },
     "metadata": {
      "tags": []
     },
     "output_type": "display_data"
    }
   ],
   "source": [
    "# converting data to format that model can understand\n",
    "# train data preparation\n",
    "train_data=[]\n",
    "from tqdm import tqdm\n",
    "for i in range(train.shape[0]):\n",
    "    num=np.array(train[i:i+1])\n",
    "    num=num.ravel()\n",
    "    num=num.reshape((28,28))\n",
    "    train_data.append(num)\n",
    "x_train=np.array(train_data)\n",
    "\n",
    "# test data preparation\n",
    "test_data=[]\n",
    "for i in range(test.shape[0]):\n",
    "    num=np.array(test[i:i+1])\n",
    "    num=num.ravel()\n",
    "    num=num.reshape((28,28))\n",
    "    test_data.append(num)\n",
    "x_test=np.array(test_data)\n",
    "\n",
    "# images\n",
    "import matplotlib.pyplot as plt\n",
    "fig = plt.figure()\n",
    "ax1 = fig.add_subplot(2,2,1)\n",
    "ax1.imshow(x_train[3],cmap='gray')\n",
    "ax2 = fig.add_subplot(2,2,2)\n",
    "ax2.imshow(x_train[8],cmap='gray')\n",
    "ax3 = fig.add_subplot(2,2,3)\n",
    "ax3.imshow(x_train[2],cmap='gray')\n",
    "ax4 = fig.add_subplot(2,2,4)\n",
    "ax4.imshow(x_train[20],cmap='gray')"
   ]
  },
  {
   "cell_type": "code",
   "execution_count": 0,
   "metadata": {
    "colab": {
     "base_uri": "https://localhost:8080/",
     "height": 68
    },
    "colab_type": "code",
    "id": "llo8u7jmeJL7",
    "outputId": "8718d80b-d08a-49fb-bdc9-5180dc0a5d15"
   },
   "outputs": [
    {
     "name": "stdout",
     "output_type": "stream",
     "text": [
      "x_train shape: (42000, 28, 28, 1)\n",
      "42000 train samples\n",
      "18000 test samples\n"
     ]
    }
   ],
   "source": [
    "#initializtion\n",
    "batch_size = 128\n",
    "num_classes = 10\n",
    "epochs = 5\n",
    "\n",
    "# funct to convert one_hot_to_scalars\n",
    "def one_hot2indices(one_hots):\n",
    "    indices = []\n",
    "    for one_hot in one_hots:\n",
    "        indices.append(np.argmax(one_hot))\n",
    "    return indices\n",
    "\n",
    "# input image dimensions\n",
    "img_rows, img_cols = 28, 28\n",
    "if K.image_data_format() == 'channels_first':\n",
    "    x_train = x_train.reshape(x_train.shape[0], 1, img_rows, img_cols)\n",
    "    x_test = x_test.reshape(x_test.shape[0], 1, img_rows, img_cols)\n",
    "    input_shape = (1, img_rows, img_cols)\n",
    "else:\n",
    "    x_train = x_train.reshape(x_train.shape[0], img_rows, img_cols, 1)\n",
    "    x_test = x_test.reshape(x_test.shape[0], img_rows, img_cols, 1)\n",
    "    input_shape = (img_rows, img_cols, 1)\n",
    "\n",
    "#type casting to float\n",
    "x_train = x_train.astype('float32')\n",
    "x_test = x_test.astype('float32')\n",
    "\n",
    "# normaliztion\n",
    "x_train /= 255\n",
    "x_test /= 255\n",
    "\n",
    "#printing size\n",
    "print('x_train shape:', x_train.shape)\n",
    "print(x_train.shape[0], 'train samples')\n",
    "print(x_test.shape[0], 'test samples')\n",
    "\n",
    "# scalar to one-hot-encoding\n",
    "y_train = keras.utils.to_categorical(y_train, num_classes)\n",
    "y_test = keras.utils.to_categorical(y_test, num_classes)"
   ]
  },
  {
   "cell_type": "markdown",
   "metadata": {
    "colab_type": "text",
    "id": "LKOtmfo-zgKp"
   },
   "source": [
    "<h2> 6. Building Models </h2>\n",
    "<h2> Model - 1 </h2>\n",
    "<h3> Architecture: Con2D X 3 - Max2D - Con2D X 2 - Con2D - Max2d - Flatten - Dense - Dropout - Dense</h3>"
   ]
  },
  {
   "cell_type": "code",
   "execution_count": 0,
   "metadata": {
    "colab": {},
    "colab_type": "code",
    "id": "m-URSMlqzgKq",
    "outputId": "aeeace0e-2c6f-4627-c94e-4867fec44296"
   },
   "outputs": [
    {
     "name": "stdout",
     "output_type": "stream",
     "text": [
      "\n",
      "Model: \"sequential_1\"\n",
      "_________________________________________________________________\n",
      "Layer (type)                 Output Shape              Param #   \n",
      "=================================================================\n",
      "conv2d_1 (Conv2D)            (None, 28, 28, 64)        640       \n",
      "_________________________________________________________________\n",
      "conv2d_2 (Conv2D)            (None, 28, 28, 64)        36928     \n",
      "_________________________________________________________________\n",
      "conv2d_3 (Conv2D)            (None, 28, 28, 128)       73856     \n",
      "_________________________________________________________________\n",
      "max_pooling2d_1 (MaxPooling2 (None, 14, 14, 128)       0         \n",
      "_________________________________________________________________\n",
      "conv2d_4 (Conv2D)            (None, 14, 14, 128)       147584    \n",
      "_________________________________________________________________\n",
      "conv2d_5 (Conv2D)            (None, 14, 14, 192)       221376    \n",
      "_________________________________________________________________\n",
      "max_pooling2d_2 (MaxPooling2 (None, 7, 7, 192)         0         \n",
      "_________________________________________________________________\n",
      "conv2d_6 (Conv2D)            (None, 7, 7, 192)         921792    \n",
      "_________________________________________________________________\n",
      "max_pooling2d_3 (MaxPooling2 (None, 4, 4, 192)         0         \n",
      "_________________________________________________________________\n",
      "flatten_1 (Flatten)          (None, 3072)              0         \n",
      "_________________________________________________________________\n",
      "dense_1 (Dense)              (None, 256)               786688    \n",
      "_________________________________________________________________\n",
      "dropout_1 (Dropout)          (None, 256)               0         \n",
      "_________________________________________________________________\n",
      "dense_2 (Dense)              (None, 10)                2570      \n",
      "=================================================================\n",
      "Total params: 2,191,434\n",
      "Trainable params: 2,191,434\n",
      "Non-trainable params: 0\n",
      "_________________________________________________________________\n",
      "<keras.engine.sequential.Sequential at 0x2b61a6911d0>\n",
      "\n",
      "Fitting 3 folds for each of 4 candidates, totalling 12 fits\n",
      "[Parallel(n_jobs=-1)]: Using backend LokyBackend with 2 concurrent workers.\n",
      "[Parallel(n_jobs=-1)]: Done   1 tasks      | elapsed: 14.4min\n",
      "[Parallel(n_jobs=-1)]: Done   4 tasks      | elapsed: 36.7min\n",
      "[Parallel(n_jobs=-1)]: Done   9 tasks      | elapsed: 72.4min\n",
      "\n",
      "Cross-validation Best: 0.995000 using {'batch_size': 64, 'epochs': 30}\n",
      "0.993881 (0.000828) with: {'batch_size': 64, 'epochs': 20}\n",
      "0.995000 (0.000440) with: {'batch_size': 64, 'epochs': 30}\n",
      "0.993929 (0.000556) with: {'batch_size': 128, 'epochs': 20}\n",
      "0.994714 (0.000408) with: {'batch_size': 128, 'epochs': 30}\n"
     ]
    }
   ],
   "source": [
    "# Use Grid Search the batch size and epochs\n",
    "from tensorflow import set_random_seed\n",
    "from numpy.random import seed\n",
    "from sklearn.model_selection import GridSearchCV\n",
    "from keras.wrappers.scikit_learn import KerasClassifier\n",
    "import warnings\n",
    "warnings.filterwarnings('ignore')\n",
    "np.random.seed(7)\n",
    "set_random_seed(2)\n",
    "seed(1)\n",
    "\n",
    "# Function to create model, required for KerasClassifier\n",
    "def create_model():\n",
    "    model = Sequential()\n",
    "    model.add(Conv2D(filters=64, kernel_size=3, padding='same', activation='relu', input_shape=(28,28,1)))\n",
    "    model.add(Conv2D(filters=64, kernel_size=3, padding='same', activation='relu'))\n",
    "    model.add(Conv2D(filters=128, kernel_size=3, padding='same', activation='relu'))\n",
    "    model.add(MaxPooling2D(pool_size=2))\n",
    "    model.add(Conv2D(filters=128, kernel_size=3, padding='same', activation='relu'))\n",
    "    model.add(Conv2D(filters=192, kernel_size=3, padding='same', activation='relu'))\n",
    "    model.add(MaxPooling2D(pool_size=2))\n",
    "    model.add(Conv2D(filters=192, kernel_size=5, padding='same', activation='relu'))\n",
    "    model.add(MaxPooling2D(pool_size=2, padding='same'))\n",
    "    model.add(Flatten())\n",
    "    model.add(Dense(256, activation='relu'))\n",
    "    model.add(Dropout(0.5))\n",
    "    model.add(Dense(10, activation='softmax'))\n",
    "    model.compile(loss='categorical_crossentropy', optimizer='adam', metrics=['accuracy'])\n",
    "    model.summary()\n",
    "    return model\n",
    "\n",
    "# create model\n",
    "model = KerasClassifier(build_fn=create_model, verbose=0)\n",
    "\n",
    "# define the grid search parameters\n",
    "batch_size = [64,128]\n",
    "epochs = [20, 30]\n",
    "param_grid = dict(batch_size=batch_size, epochs=epochs)\n",
    "grid = GridSearchCV(estimator=model, param_grid=param_grid, n_jobs=-1, cv=3,verbose=10)\n",
    "grid_result = grid.fit(x_train, y_train)\n",
    "\n",
    "# summarize results\n",
    "print(\"Cross-validation Best: %f using %s\" % (grid_result.best_score_, grid_result.best_params_))\n",
    "means = grid_result.cv_results_['mean_test_score']\n",
    "stds = grid_result.cv_results_['std_test_score']\n",
    "params = grid_result.cv_results_['params']\n",
    "for mean, stdev, param in zip(means, stds, params):\n",
    "    print(\"%f (%f) with: %r\" % (mean, stdev, param)) "
   ]
  },
  {
   "cell_type": "code",
   "execution_count": 26,
   "metadata": {
    "colab": {
     "base_uri": "https://localhost:8080/",
     "height": 345
    },
    "colab_type": "code",
    "id": "w4wSjZC8jTmb",
    "outputId": "585d8ded-4469-4021-e4e0-515ac7417199"
   },
   "outputs": [
    {
     "name": "stdout",
     "output_type": "stream",
     "text": [
      "log_loss: 0.03741\n",
      "accuracy_score: 0.99567\n"
     ]
    },
    {
     "data": {
      "image/png": "[encoded data removed]",
      "text/plain": [
       "<IPython.core.display.Image object>"
      ]
     },
     "execution_count": 26,
     "metadata": {
      "tags": []
     },
     "output_type": "execute_result"
    }
   ],
   "source": [
    "y_test_acc=np.array(one_hot2indices(y_test))\n",
    "predit=np.array(grid.predict_proba(x_test))\n",
    "print(\"log_loss:\",np.round(log_loss(y_test_acc, predit),5))\n",
    "predit=np.array(grid.predict(x_test))\n",
    "print(\"accuracy_score:\",np.round(accuracy_score(y_test_acc, predit),5))\n",
    "plot_confusion_matrix(confusion_matrix(y_test_acc,predit), classes=class_labels, normalize=False, title='Confusion matrix',cmap = cm_cmap)"
   ]
  },
  {
   "cell_type": "markdown",
   "metadata": {
    "colab_type": "text",
    "id": "PWaW9u2TzgKx"
   },
   "source": [
    "<h2>Model - 2 </h2>\n",
    "<h3>Architecture: Con2D X 2 - Max2D - Dropout - Con2D X 2 - Max2d - Dropout - Flatten - Dense - Dropout - Dense\n",
    "with Reducing Learning Rate</h3>"
   ]
  },
  {
   "cell_type": "code",
   "execution_count": 0,
   "metadata": {
    "colab": {},
    "colab_type": "code",
    "id": "3qNh872RzgKy",
    "outputId": "42136dae-b126-4901-a8a1-6b8a95aa00dd"
   },
   "outputs": [
    {
     "name": "stdout",
     "output_type": "stream",
     "text": [
      "\n",
      "Model: \"sequential_2\"\n",
      "_________________________________________________________________\n",
      "Layer (type)                 Output Shape              Param #   \n",
      "=================================================================\n",
      "conv2d_11 (Conv2D)           (None, 28, 28, 32)        832       \n",
      "_________________________________________________________________\n",
      "conv2d_12 (Conv2D)           (None, 28, 28, 32)        25632     \n",
      "_________________________________________________________________\n",
      "max_pooling2d_6 (MaxPooling2 (None, 14, 14, 32)        0         \n",
      "_________________________________________________________________\n",
      "dropout_5 (Dropout)          (None, 14, 14, 32)        0         \n",
      "_________________________________________________________________\n",
      "conv2d_13 (Conv2D)           (None, 14, 14, 64)        18496     \n",
      "_________________________________________________________________\n",
      "conv2d_14 (Conv2D)           (None, 14, 14, 64)        36928     \n",
      "_________________________________________________________________\n",
      "max_pooling2d_7 (MaxPooling2 (None, 7, 7, 64)          0         \n",
      "_________________________________________________________________\n",
      "dropout_6 (Dropout)          (None, 7, 7, 64)          0         \n",
      "_________________________________________________________________\n",
      "flatten_3 (Flatten)          (None, 3136)              0         \n",
      "_________________________________________________________________\n",
      "dense_5 (Dense)              (None, 256)               803072    \n",
      "_________________________________________________________________\n",
      "dropout_7 (Dropout)          (None, 256)               0         \n",
      "_________________________________________________________________\n",
      "dense_6 (Dense)              (None, 10)                2570      \n",
      "=================================================================\n",
      "Total params: 887,530\n",
      "Trainable params: 887,530\n",
      "Non-trainable params: 0\n",
      "_________________________________________________________________\n",
      "\n",
      "Train on 42000 samples, validate on 18000 samples\n",
      "Epoch 1/30\n",
      " - 9s - loss: 0.1914 - acc: 0.9408 - val_loss: 0.0311 - val_acc: 0.9901\n",
      "Epoch 2/30\n",
      " - 8s - loss: 0.0487 - acc: 0.9862 - val_loss: 0.0248 - val_acc: 0.9919\n",
      "Epoch 3/30\n",
      " - 8s - loss: 0.0352 - acc: 0.9898 - val_loss: 0.0247 - val_acc: 0.9938\n",
      "Epoch 4/30\n",
      " - 8s - loss: 0.0279 - acc: 0.9916 - val_loss: 0.0190 - val_acc: 0.9943\n",
      "Epoch 5/30\n",
      " - 8s - loss: 0.0231 - acc: 0.9934 - val_loss: 0.0251 - val_acc: 0.9928\n",
      "Epoch 6/30\n",
      " - 8s - loss: 0.0201 - acc: 0.9938 - val_loss: 0.0184 - val_acc: 0.9956\n",
      "Epoch 7/30\n",
      " - 8s - loss: 0.0175 - acc: 0.9949 - val_loss: 0.0140 - val_acc: 0.9954\n",
      "Epoch 8/30\n",
      " - 8s - loss: 0.0176 - acc: 0.9950 - val_loss: 0.0148 - val_acc: 0.9957\n",
      "Epoch 9/30\n",
      " - 8s - loss: 0.0163 - acc: 0.9957 - val_loss: 0.0171 - val_acc: 0.9956\n",
      "Epoch 10/30\n",
      " - 8s - loss: 0.0158 - acc: 0.9953 - val_loss: 0.0177 - val_acc: 0.9959\n",
      "\n",
      "Epoch 00010: ReduceLROnPlateau reducing learning rate to 0.00020000000949949026.\n",
      "Epoch 11/30\n",
      " - 8s - loss: 0.0069 - acc: 0.9975 - val_loss: 0.0128 - val_acc: 0.9963\n",
      "Epoch 12/30\n",
      " - 8s - loss: 0.0052 - acc: 0.9983 - val_loss: 0.0130 - val_acc: 0.9965\n",
      "Epoch 13/30\n",
      " - 8s - loss: 0.0048 - acc: 0.9983 - val_loss: 0.0120 - val_acc: 0.9967\n",
      "Epoch 14/30\n",
      " - 8s - loss: 0.0046 - acc: 0.9985 - val_loss: 0.0149 - val_acc: 0.9960\n",
      "Epoch 15/30\n",
      " - 8s - loss: 0.0034 - acc: 0.9989 - val_loss: 0.0139 - val_acc: 0.9965\n",
      "Epoch 16/30\n",
      " - 8s - loss: 0.0045 - acc: 0.9985 - val_loss: 0.0134 - val_acc: 0.9962\n",
      "\n",
      "Epoch 00016: ReduceLROnPlateau reducing learning rate to 4.0000001899898055e-05.\n",
      "Epoch 17/30\n",
      " - 8s - loss: 0.0031 - acc: 0.9988 - val_loss: 0.0138 - val_acc: 0.9966\n",
      "Epoch 18/30\n",
      " - 8s - loss: 0.0032 - acc: 0.9987 - val_loss: 0.0136 - val_acc: 0.9966\n",
      "Epoch 19/30\n",
      " - 8s - loss: 0.0031 - acc: 0.9991 - val_loss: 0.0136 - val_acc: 0.9965\n",
      "\n",
      "Epoch 00019: ReduceLROnPlateau reducing learning rate to 1e-05.\n",
      "Epoch 20/30\n",
      " - 8s - loss: 0.0028 - acc: 0.9990 - val_loss: 0.0138 - val_acc: 0.9965\n",
      "Epoch 21/30\n",
      " - 8s - loss: 0.0022 - acc: 0.9992 - val_loss: 0.0137 - val_acc: 0.9966\n",
      "Epoch 22/30\n",
      " - 8s - loss: 0.0026 - acc: 0.9989 - val_loss: 0.0138 - val_acc: 0.9966\n",
      "Epoch 23/30\n",
      " - 8s - loss: 0.0025 - acc: 0.9991 - val_loss: 0.0140 - val_acc: 0.9966\n",
      "Epoch 24/30\n",
      " - 8s - loss: 0.0022 - acc: 0.9994 - val_loss: 0.0145 - val_acc: 0.9967\n",
      "Epoch 25/30\n",
      " - 8s - loss: 0.0024 - acc: 0.9991 - val_loss: 0.0142 - val_acc: 0.9966\n",
      "Epoch 26/30\n",
      " - 8s - loss: 0.0026 - acc: 0.9990 - val_loss: 0.0141 - val_acc: 0.9966\n",
      "Epoch 27/30\n",
      " - 8s - loss: 0.0023 - acc: 0.9991 - val_loss: 0.0139 - val_acc: 0.9968\n",
      "Epoch 28/30\n",
      " - 8s - loss: 0.0030 - acc: 0.9990 - val_loss: 0.0136 - val_acc: 0.9967\n",
      "Epoch 29/30\n",
      " - 8s - loss: 0.0021 - acc: 0.9994 - val_loss: 0.0140 - val_acc: 0.9967\n",
      "Epoch 30/30\n",
      " - 8s - loss: 0.0029 - acc: 0.9990 - val_loss: 0.0141 - val_acc: 0.9967\n",
      "Test loss: 0.014139167087128094\n",
      "Test accuracy: 0.9966666666666667\n"
     ]
    }
   ],
   "source": [
    "import itertools\n",
    "from keras.optimizers import RMSprop\n",
    "from keras.preprocessing.image import ImageDataGenerator\n",
    "from keras.callbacks import ReduceLROnPlateau\n",
    "import warnings\n",
    "warnings.filterwarnings('ignore')\n",
    "\n",
    "# build Sequential model\n",
    "model = Sequential()\n",
    "model.add(Conv2D(filters = 32, kernel_size = (5,5),padding = 'Same', \n",
    "                 activation ='relu', input_shape = (28,28,1)))\n",
    "model.add(Conv2D(filters = 32, kernel_size = (5,5),padding = 'Same', \n",
    "                 activation ='relu'))\n",
    "model.add(MaxPool2D(pool_size=(2,2)))\n",
    "model.add(Dropout(0.25))\n",
    "\n",
    "model.add(Conv2D(filters = 64, kernel_size = (3,3),padding = 'Same', \n",
    "                 activation ='relu'))\n",
    "model.add(Conv2D(filters = 64, kernel_size = (3,3),padding = 'Same', \n",
    "                 activation ='relu'))\n",
    "model.add(MaxPool2D(pool_size=(2,2), strides=(2,2)))\n",
    "model.add(Dropout(0.25))\n",
    "\n",
    "model.add(Flatten())\n",
    "model.add(Dense(256, activation = \"relu\"))\n",
    "model.add(Dropout(0.5))\n",
    "model.add(Dense(10, activation = \"softmax\"))\n",
    "model.summary()\n",
    "\n",
    "# compile model\n",
    "optimizer = RMSprop(lr=0.001, rho=0.9, epsilon=1e-08, decay=0.0)\n",
    "model.compile(optimizer = optimizer , loss = \"categorical_crossentropy\", metrics=[\"accuracy\"])\n",
    "learning_rate_reduction = ReduceLROnPlateau(monitor='val_loss', \n",
    "                                            patience=3, \n",
    "                                            verbose=1, \n",
    "                                            factor=0.2, \n",
    "                                           min_lr=0.00001)\n",
    "\n",
    "# fit model\n",
    "hist = model.fit(x_train, \n",
    "                 y_train, \n",
    "                 batch_size=128, \n",
    "                 epochs=30,\n",
    "                 validation_data=(x_test, y_test), \n",
    "                 callbacks=[learning_rate_reduction],\n",
    "                 verbose=1, \n",
    "                 shuffle=True)\n",
    "\n",
    "# evalute model\n",
    "score = model.evaluate(x_test, y_test, verbose=0)\n",
    "print('Test loss:', score[0])\n",
    "print('Test accuracy:', score[1])"
   ]
  },
  {
   "cell_type": "code",
   "execution_count": 0,
   "metadata": {
    "colab": {},
    "colab_type": "code",
    "id": "FitN5MuWzgK5",
    "outputId": "9c66d1cb-f4a2-4688-bfa1-a128bca2467b"
   },
   "outputs": [
    {
     "data": {
      "image/png": "[encoded data removed]",
      "text/plain": [
       "<Figure size 576x360 with 1 Axes>"
      ]
     },
     "metadata": {
      "tags": []
     },
     "output_type": "display_data"
    }
   ],
   "source": [
    "# epoch list\n",
    "epochs = list(range(1,30+1))\n",
    "\n",
    "# Obtaining loss\n",
    "validation_loss = hist.history['val_loss']\n",
    "train_loss = hist.history['loss']\n",
    "\n",
    "# ploting Epoch vs Crossentropy Loss    \n",
    "plt.figure(figsize=(8,5))\n",
    "plt.plot(epochs,validation_loss,'r',label='Test loss',linewidth=1.25)\n",
    "plt.plot(epochs,train_loss,'b',label='Train loss',linewidth=1.25)\n",
    "plt.ylabel('Categorical Crossentropy Loss')\n",
    "plt.xlabel('Epoch')\n",
    "plt.title('Epoch vs Crossentropy Loss')\n",
    "plt.grid()\n",
    "plt.legend()\n",
    "plt.show()"
   ]
  },
  {
   "cell_type": "code",
   "execution_count": 0,
   "metadata": {
    "colab": {
     "base_uri": "https://localhost:8080/",
     "height": 328
    },
    "colab_type": "code",
    "id": "7ZYWgSBB2bOm",
    "outputId": "145e842f-3db6-46e7-e397-efeef69bb731"
   },
   "outputs": [
    {
     "name": "stdout",
     "output_type": "stream",
     "text": [
      "accuracy_score: 0.99667\n"
     ]
    },
    {
     "data": {
      "image/png": "[encoded data removed]",
      "text/plain": [
       "<Figure size 432x288 with 2 Axes>"
      ]
     },
     "metadata": {
      "tags": []
     },
     "output_type": "display_data"
    }
   ],
   "source": [
    "y_test_acc=np.array(one_hot2indices(y_test))\n",
    "predit=np.array(one_hot2indices(model.predict(x_test)))\n",
    "print(\"accuracy_score:\",np.round(accuracy_score(y_test_acc, predit),5))\n",
    "plot_confusion_matrix(confusion_matrix(y_test_acc,predit), classes=class_labels, normalize=False, title='Confusion matrix',cmap = cm_cmap)"
   ]
  },
  {
   "cell_type": "markdown",
   "metadata": {
    "colab_type": "text",
    "id": "mb_fq-udzgLB"
   },
   "source": [
    "<h2>Model - 3</h2>\n",
    "<h3>Architecture: Con2D X 2 - Max2D - Dropout - Con2D X 2 - Max2d - Dropout - Flatten - Dense - Dropout - Dense<br>\n",
    " with Reducing Learning Rate + Data Agumentation</h3>"
   ]
  },
  {
   "cell_type": "markdown",
   "metadata": {
    "colab_type": "text",
    "id": "k_DuyzNXFBcl"
   },
   "source": [
    "**DATA AGUMENTATION**:\n",
    "* Image data augmentation is perhaps the most well-known type of data augmentation and involves creating transformed versions of images in the training dataset that belong to the same class as the original image.\n",
    "* Transforms include a range of operations from the field of image manipulation, such as shifts, flips, zooms, and much more."
   ]
  },
  {
   "cell_type": "code",
   "execution_count": 14,
   "metadata": {
    "colab": {
     "base_uri": "https://localhost:8080/",
     "height": 269
    },
    "colab_type": "code",
    "id": "3oKuFR0MA0Zt",
    "outputId": "8d7e9a4c-0f21-4713-9e68-5fdc52070a28"
   },
   "outputs": [
    {
     "data": {
      "image/png": "[encoded data removed]",
      "text/plain": [
       "<Figure size 432x288 with 9 Axes>"
      ]
     },
     "metadata": {
      "tags": []
     },
     "output_type": "display_data"
    }
   ],
   "source": [
    "# citation:https://machinelearningmastery.com/how-to-configure-image-data-augmentation-when-training-deep-learning-neural-networks/\n",
    "from numpy import expand_dims\n",
    "from keras.preprocessing.image import load_img\n",
    "from keras.preprocessing.image import img_to_array\n",
    "from keras.preprocessing.image import ImageDataGenerator\n",
    "from matplotlib import pyplot\n",
    "# load the image\n",
    "img = load_img('img5.jpg')\n",
    "# convert to numpy array\n",
    "data = img_to_array(img)\n",
    "# expand dimension to one sample\n",
    "samples = expand_dims(data, 0)\n",
    "# create image data augmentation generator\n",
    "datagen = ImageDataGenerator(rotation_range=90,brightness_range=[0.2,1.0],zoom_range=[0.5,1.0])\n",
    "# prepare iterator\n",
    "it = datagen.flow(samples, batch_size=1)\n",
    "# generate samples and plot\n",
    "for i in range(9):\n",
    "\t# define subplot\n",
    "\tpyplot.subplot(330 + 1 + i)\n",
    "\t# generate batch of images\n",
    "\tbatch = it.next()\n",
    "\t# convert to unsigned integers for viewing\n",
    "\timage = batch[0].astype('uint8')\n",
    "\t# plot raw pixel data\n",
    "\tpyplot.imshow(image)\n",
    "# show the figure\n",
    "pyplot.show()"
   ]
  },
  {
   "cell_type": "code",
   "execution_count": 0,
   "metadata": {
    "colab": {
     "base_uri": "https://localhost:8080/",
     "height": 799
    },
    "colab_type": "code",
    "id": "QlpvVMAGZ2oq",
    "outputId": "3e535ad3-b856-4af9-9093-101a06d78349"
   },
   "outputs": [
    {
     "name": "stdout",
     "output_type": "stream",
     "text": [
      "Epoch 1/20\n",
      " - 16s - loss: 0.3365 - acc: 0.8902 - val_loss: 0.0657 - val_acc: 0.9816\n",
      "Epoch 2/20\n",
      " - 15s - loss: 0.0916 - acc: 0.9725 - val_loss: 0.0262 - val_acc: 0.9924\n",
      "Epoch 3/20\n",
      " - 15s - loss: 0.0654 - acc: 0.9818 - val_loss: 0.0226 - val_acc: 0.9939\n",
      "Epoch 4/20\n",
      " - 15s - loss: 0.0555 - acc: 0.9836 - val_loss: 0.0278 - val_acc: 0.9940\n",
      "Epoch 5/20\n",
      " - 15s - loss: 0.0481 - acc: 0.9861 - val_loss: 0.0168 - val_acc: 0.9948\n",
      "Epoch 6/20\n",
      " - 15s - loss: 0.0417 - acc: 0.9880 - val_loss: 0.0184 - val_acc: 0.9939\n",
      "Epoch 7/20\n",
      " - 15s - loss: 0.0411 - acc: 0.9884 - val_loss: 0.0173 - val_acc: 0.9949\n",
      "Epoch 8/20\n",
      " - 15s - loss: 0.0381 - acc: 0.9891 - val_loss: 0.0185 - val_acc: 0.9953\n",
      "\n",
      "Epoch 00008: ReduceLROnPlateau reducing learning rate to 0.00020000000949949026.\n",
      "Epoch 9/20\n",
      " - 15s - loss: 0.0279 - acc: 0.9921 - val_loss: 0.0129 - val_acc: 0.9962\n",
      "Epoch 10/20\n",
      " - 15s - loss: 0.0259 - acc: 0.9921 - val_loss: 0.0119 - val_acc: 0.9966\n",
      "Epoch 11/20\n",
      " - 15s - loss: 0.0230 - acc: 0.9936 - val_loss: 0.0112 - val_acc: 0.9969\n",
      "Epoch 12/20\n",
      " - 15s - loss: 0.0238 - acc: 0.9925 - val_loss: 0.0105 - val_acc: 0.9970\n",
      "Epoch 13/20\n",
      " - 15s - loss: 0.0219 - acc: 0.9933 - val_loss: 0.0128 - val_acc: 0.9965\n",
      "Epoch 14/20\n",
      " - 15s - loss: 0.0224 - acc: 0.9934 - val_loss: 0.0110 - val_acc: 0.9969\n",
      "Epoch 15/20\n",
      " - 14s - loss: 0.0211 - acc: 0.9934 - val_loss: 0.0130 - val_acc: 0.9966\n",
      "\n",
      "Epoch 00015: ReduceLROnPlateau reducing learning rate to 4.0000001899898055e-05.\n",
      "Epoch 16/20\n",
      " - 14s - loss: 0.0199 - acc: 0.9940 - val_loss: 0.0103 - val_acc: 0.9973\n",
      "Epoch 17/20\n",
      " - 15s - loss: 0.0204 - acc: 0.9936 - val_loss: 0.0102 - val_acc: 0.9972\n",
      "Epoch 18/20\n",
      " - 14s - loss: 0.0195 - acc: 0.9945 - val_loss: 0.0101 - val_acc: 0.9973\n",
      "Epoch 19/20\n",
      " - 14s - loss: 0.0225 - acc: 0.9936 - val_loss: 0.0100 - val_acc: 0.9972\n",
      "Epoch 20/20\n",
      " - 14s - loss: 0.0202 - acc: 0.9937 - val_loss: 0.0102 - val_acc: 0.9973\n",
      "Test loss: 0.010153721526769207\n",
      "Test accuracy: 0.9972777777777778\n"
     ]
    }
   ],
   "source": [
    "from sklearn.model_selection import train_test_split\n",
    "from sklearn.metrics import confusion_matrix\n",
    "import itertools\n",
    "from keras.utils.np_utils import to_categorical # convert to one-hot-encoding\n",
    "from keras.models import Sequential\n",
    "from keras.layers import Dense, Dropout, Flatten, Conv2D, MaxPool2D\n",
    "from keras.optimizers import RMSprop\n",
    "from keras.preprocessing.image import ImageDataGenerator\n",
    "from keras.callbacks import ReduceLROnPlateau\n",
    "\n",
    "# build Sequential model\n",
    "model = Sequential()\n",
    "\n",
    "model.add(Conv2D(filters = 32, kernel_size = (5,5),padding = 'Same', \n",
    "                 activation ='relu', input_shape = (28,28,1)))\n",
    "model.add(Conv2D(filters = 32, kernel_size = (5,5),padding = 'Same', \n",
    "                 activation ='relu'))\n",
    "model.add(MaxPool2D(pool_size=(2,2)))\n",
    "model.add(Dropout(0.25))\n",
    "\n",
    "model.add(Conv2D(filters = 64, kernel_size = (3,3),padding = 'Same', \n",
    "                 activation ='relu'))\n",
    "model.add(Conv2D(filters = 64, kernel_size = (3,3),padding = 'Same', \n",
    "                 activation ='relu'))\n",
    "model.add(MaxPool2D(pool_size=(2,2), strides=(2,2)))\n",
    "model.add(Dropout(0.25))\n",
    "\n",
    "model.add(Flatten())\n",
    "model.add(Dense(256, activation = \"relu\"))\n",
    "model.add(Dropout(0.5))\n",
    "model.add(Dense(10, activation = \"softmax\"))\n",
    "\n",
    "# Compile model\n",
    "optimizer = RMSprop(lr=0.001, rho=0.9, epsilon=1e-08, decay=0.0)\n",
    "model.compile(optimizer = optimizer , loss = \"categorical_crossentropy\", metrics=[\"accuracy\"])\n",
    "learning_rate_reduction = ReduceLROnPlateau(monitor='val_loss', \n",
    "                                            patience=3, \n",
    "                                            verbose=1, \n",
    "                                            factor=0.2, \n",
    "                                            min_lr=0.00001)\n",
    "# Data Agumentation\n",
    "datagen = ImageDataGenerator(\n",
    "        featurewise_center=False,  # set input mean to 0 over the dataset\n",
    "        samplewise_center=False,  # set each sample mean to 0\n",
    "        featurewise_std_normalization=False,  # divide inputs by std of the dataset\n",
    "        samplewise_std_normalization=False,  # divide each input by its std\n",
    "        zca_whitening=False,  # apply ZCA whitening\n",
    "        rotation_range=10,  # randomly rotate images in the range (degrees, 0 to 180)\n",
    "        zoom_range = 0.1, # Randomly zoom image \n",
    "        width_shift_range=0.1,  # randomly shift images horizontally (fraction of total width)\n",
    "        height_shift_range=0.1,  # randomly shift images vertically (fraction of total height)\n",
    "        horizontal_flip=False,  # randomly flip images\n",
    "        vertical_flip=False) \n",
    "\n",
    "# Model Training\n",
    "hist = model.fit_generator(datagen.flow(x_train,y_train, batch_size=128),\n",
    "                              epochs = 20, validation_data = (x_test,y_test),\n",
    "                              verbose = 2, steps_per_epoch=x_train.shape[0] // 128\n",
    "                              ,callbacks=[learning_rate_reduction])\n",
    "\n",
    "# Model Evaluation\n",
    "score = model.evaluate(x_test, y_test, verbose=0)\n",
    "print('Test loss:', score[0])\n",
    "print('Test accuracy:', score[1])"
   ]
  },
  {
   "cell_type": "code",
   "execution_count": 0,
   "metadata": {
    "colab": {},
    "colab_type": "code",
    "id": "ZeZ0iYekzgLF",
    "outputId": "e018a628-b6fa-452a-9a91-eb6a955aad6f"
   },
   "outputs": [
    {
     "data": {
      "image/png": "[encoded data removed]",
      "text/plain": [
       "<Figure size 576x360 with 1 Axes>"
      ]
     },
     "metadata": {
      "tags": []
     },
     "output_type": "display_data"
    }
   ],
   "source": [
    "# epoch list\n",
    "epochs = list(range(1,20+1))\n",
    "\n",
    "# Obtaining loss\n",
    "validation_loss = hist.history['val_loss']\n",
    "train_loss = hist.history['loss']\n",
    "\n",
    "# ploting Epoch vs Crossentropy Loss    \n",
    "plt.figure(figsize=(8,5))\n",
    "plt.plot(epochs,validation_loss,'r',label='Test loss',linewidth=1.25)\n",
    "plt.plot(epochs,train_loss,'b',label='Train loss',linewidth=1.25)\n",
    "plt.ylabel('Categorical Crossentropy Loss')\n",
    "plt.xlabel('Epoch')\n",
    "plt.title('Epoch vs Crossentropy Loss')\n",
    "plt.grid()\n",
    "plt.legend()\n",
    "plt.show()"
   ]
  },
  {
   "cell_type": "code",
   "execution_count": 0,
   "metadata": {
    "colab": {
     "base_uri": "https://localhost:8080/",
     "height": 328
    },
    "colab_type": "code",
    "id": "l6UXds3dR9Mn",
    "outputId": "cf8aa660-67ab-4e23-95ad-2ab0385c671e"
   },
   "outputs": [
    {
     "name": "stdout",
     "output_type": "stream",
     "text": [
      "accuracy_score: 0.99728\n"
     ]
    },
    {
     "data": {
      "image/png": "[encoded data removed]",
      "text/plain": [
       "<Figure size 432x288 with 2 Axes>"
      ]
     },
     "metadata": {
      "tags": []
     },
     "output_type": "display_data"
    }
   ],
   "source": [
    "y_test_acc=np.array(one_hot2indices(y_test))\n",
    "predit=np.array(one_hot2indices(model.predict(x_test)))\n",
    "print(\"accuracy_score:\",np.round(accuracy_score(y_test_acc, predit),5))\n",
    "plot_confusion_matrix(confusion_matrix(y_test_acc,predit), classes=class_labels, normalize=False, title='Confusion matrix',cmap = cm_cmap)"
   ]
  },
  {
   "cell_type": "code",
   "execution_count": 33,
   "metadata": {
    "colab": {
     "base_uri": "https://localhost:8080/",
     "height": 289
    },
    "colab_type": "code",
    "id": "Kja3j9-p1Pb4",
    "outputId": "31af47a9-8d95-475f-de70-0a34cf4992ac"
   },
   "outputs": [
    {
     "name": "stdout",
     "output_type": "stream",
     "text": [
      " MODEL-1 Architecture: Con2D X 3 - Max2D - Con2D X 2 - Con2D - Max2d - Flatten - Dense - Dropout - Dense.\n",
      "\n",
      " MODEL-2 Architecture: Con2D X 2 - Max2D - Dropout - Con2D X 2 - Max2d - Dropout - Flatten - Dense - Dropout - Dense>(Ru-LE).\n",
      "\n",
      " MODEL-3 Architecture: Con2D X 2 - Max2D - Dropout - Con2D X 2 - Max2d - Dropout - Flatten - Dense - Dropout - Dense>(Ru-LE+DA).\n",
      "\n",
      "\t  DEEP LEARNING MODELS\n",
      "+---------+-----------+---------------+\n",
      "|  Models | Test-Loss | Test-Accuracy |\n",
      "+---------+-----------+---------------+\n",
      "| Model-1 |  0.03741  |    99.56 %    |\n",
      "|  ------ |  -------- |     ------    |\n",
      "| Model-2 |  0.01413  |    99.66 %    |\n",
      "|  ------ |  -------- |     ------    |\n",
      "| Model-3 |  0.01015  |    99.72 %    |\n",
      "+---------+-----------+---------------+\n"
     ]
    }
   ],
   "source": [
    "# Architecture of layers\n",
    "arch1=\"Con2D X 3 - Max2D - Con2D X 2 - Con2D - Max2d - Flatten - Dense - Dropout - Dense.\"\n",
    "arch2=\"Con2D X 2 - Max2D - Dropout - Con2D X 2 - Max2d - Dropout - Flatten - Dense - Dropout - Dense>(Ru-LE).\"\n",
    "arch3=\"Con2D X 2 - Max2D - Dropout - Con2D X 2 - Max2d - Dropout - Flatten - Dense - Dropout - Dense>(Ru-LE+DA).\"\n",
    "\n",
    "ls=[arch1,arch2,arch3]\n",
    "for i,l in enumerate(ls,1):\n",
    "    print(\" MODEL-{0} Architecture: {1}\\n\".format(i,l))\n",
    "    \n",
    "from prettytable import PrettyTable\n",
    "T = PrettyTable()\n",
    "print(\"\\t  DEEP LEARNING MODELS\")\n",
    "T.field_names = [\"Models\",\"Test-Loss\",\"Test-Accuracy\"]\n",
    "T.add_row([\"Model-1\",\"0.03741\",\"99.56 %\"])\n",
    "T.add_row([\"------\",\"--------\",\"------\"])\n",
    "T.add_row([\"Model-2\",\"0.01413\", \"99.66 %\"])\n",
    "T.add_row([\"------\",\"--------\",\"------\"])\n",
    "T.add_row([\"Model-3\",\"0.01015\", \"99.72 %\"])\n",
    "print(T)"
   ]
  },
  {
   "cell_type": "markdown",
   "metadata": {
    "colab_type": "text",
    "id": "bTh06y8Mz0qC"
   },
   "source": [
    "<h2>Steps Followed to solve this problem</h2>\n"
   ]
  },
  {
   "cell_type": "markdown",
   "metadata": {
    "colab_type": "text",
    "id": "SNNCn1wrz0xg"
   },
   "source": [
    "** 1. Problem Definition:** This include clearly understanding the problem being solved\n",
    "  * Kannada is a language spoken predominantly by people of Karnataka in southwestern India. The language has roughly 45 million native speakers and is written using the Kannada script.This project is to build a model that classify image as kannada language digit from 0 - 9."
   ]
  },
  {
   "cell_type": "markdown",
   "metadata": {
    "colab_type": "text",
    "id": "7hHjq5ydz07_"
   },
   "source": [
    "** 2. Gathering Data:** The quality and quantity of data that you gather will determine how good your predictive model can be.\n",
    "  * This dataset is collected from kaggle which publicly avaliable for experimentation and competitions.\n",
    "  * dataset link: https://www.kaggle.com/c/Kannada-MNIST/data"
   ]
  },
  {
   "cell_type": "markdown",
   "metadata": {
    "colab_type": "text",
    "id": "s2B5nawEz1_E"
   },
   "source": [
    "** 3. Data Analysis and Preprocessing :** This includes gaining insights from data to solve a problem and cleaning unwanted data\n",
    "   * The Data set contains  contains pixel data of 785 columns : image, label\n",
    "   * Preprocessing includes:\n",
    "      - Checking for Nan Values. \n",
    "      - Checking for Duplicates in Data. "
   ]
  },
  {
   "cell_type": "markdown",
   "metadata": {
    "colab_type": "text",
    "id": "ORGyQCEOz2QH"
   },
   "source": [
    "** 4. Data preparation:** Discovering the format of data that the machine learning model can understand and construction of  features like:\n",
    " * There are 754 pixel data coloumns which has to be reshaped to (28, 28) to represent an image and then further has to be reshaped to (number_of_datapoints, 28, 28, 1) to build Deep CNN Model.\n",
    " * This step also include converting labels to One-hot-encoding.\n",
    " "
   ]
  },
  {
   "cell_type": "markdown",
   "metadata": {
    "colab_type": "text",
    "id": "M5xGeYh-z2dL"
   },
   "source": [
    "** 5. Choosing a Model and Methods:** There are many models that researchers have created over the years but in this case study we will experiment with a bunch of  algorithms \n",
    " * we use Conventional Neural Network Deep Learning Model with Various Architectures :\n",
    "  * Model-1:Con2D X 3 - Max2D - Con2D X 2 - Con2D - Max2d - Flatten - Dense - Dropout - Dense.\n",
    "  * Model-2:Con2D X 2 - Max2D - Dropout - Con2D X 2 - Max2d - Dropout - Flatten - Dense - Dropout - Dense >>with Reducing Learning Rate.\n",
    "  * Model-3:Con2D X 2 - Max2D - Dropout - Con2D X 2 - Max2d - Dropout - Flatten - Dense - Dropout - Dense Reducing_Learning_Rate + Data_Agumentation.\n",
    "                   \n",
    "                   \n",
    "\n",
    "\n",
    "\n",
    "\n",
    "\n",
    "\n"
   ]
  },
  {
   "cell_type": "markdown",
   "metadata": {
    "colab_type": "text",
    "id": "6OQSr6bxz2aI"
   },
   "source": [
    "** 6. Training:** The is considered the bulk of machine learning  which refer to Building a Machine Learning model\n",
    " * In this case study we make a 70-30 Split for Training, Testing and for building a model."
   ]
  },
  {
   "cell_type": "markdown",
   "metadata": {
    "colab_type": "text",
    "id": "5Mol8uS2z2YH"
   },
   "source": [
    "** 7. Evaluation:**  This is where we evaluate model performance how good is our model\n",
    "  * For Deep learning model goal is to reduce Multi-class log loss\n",
    "  * Use  Accuracy as main Mertic to measure performance of Model\n",
    "  * Also use Confusion Matrix as mertic of Reference"
   ]
  },
  {
   "cell_type": "markdown",
   "metadata": {
    "colab_type": "text",
    "id": "qOS7M9eLz2V5"
   },
   "source": [
    "** 8. Improve Results(Parameter Tuning):**  This is where Hyper parameter tuning is done to gain best model possible\n",
    "  * GridSearchCV for Hyper Parameter Tunning on all models.\n",
    "  * Try a bunch of Hyper Parameter values to increase  Accuracy  more as possible.\n",
    "  * Use Data-Agumentation and callback-reduce learning rate on val_loss method to enhance results.\n",
    "  * Performance can be futher improved by experimenting histogram of oriented gradients(HOG) on images."
   ]
  },
  {
   "cell_type": "markdown",
   "metadata": {
    "colab_type": "text",
    "id": "f8zuTHyQz2T4"
   },
   "source": [
    "** 9. Present results:** The results of model performance for this case study is Represented in pretty table above"
   ]
  },
  {
   "cell_type": "markdown",
   "metadata": {
    "colab_type": "text",
    "id": "E0OO8Plhz2OJ"
   },
   "source": [
    "**CONCLUSION:**\n",
    "*  In the real world, domain-knowledge, EDA and feature-engineering matter most.\n",
    "* The high train-loss initially for Model-3 is due to Data Agumentation.\n",
    "* Altering Learning rate after some epochs improve test accuracy significantly.\n",
    "* There is still confusion between digit one,zero and six,nine labels even for best model.\n",
    "\n",
    "Finally our best Deep learning model is Conventional Neural Network Model-3 Architecture with 99.72% Accuracy which out perform every other model."
   ]
  }
 ],
 "metadata": {
  "accelerator": "GPU",
  "colab": {
   "collapsed_sections": [],
   "name": "Done_Kannada_mnist.ipynb",
   "provenance": []
  },
  "kernelspec": {
   "display_name": "Python 3",
   "language": "python",
   "name": "python3"
  },
  "language_info": {
   "codemirror_mode": {
    "name": "ipython",
    "version": 3
   },
   "file_extension": ".py",
   "mimetype": "text/x-python",
   "name": "python",
   "nbconvert_exporter": "python",
   "pygments_lexer": "ipython3",
   "version": "3.6.5"
  }
 },
 "nbformat": 4,
 "nbformat_minor": 1
}
